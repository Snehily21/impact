{
 "cells": [
  {
   "cell_type": "code",
   "execution_count": null,
   "id": "0133f53c-7df8-4de6-8938-5259e2674144",
   "metadata": {},
   "outputs": [],
   "source": [
    "\"\"\"Assignment of 29th january\"\"\""
   ]
  },
  {
   "cell_type": "code",
   "execution_count": null,
   "id": "7e5a8f80-85b3-418e-8f63-53694fcecf92",
   "metadata": {},
   "outputs": [],
   "source": [
    "Answer_1 = \"Guido Van Rossum\""
   ]
  },
  {
   "cell_type": "code",
   "execution_count": null,
   "id": "0957d4bc-844e-4e9c-872d-75190a83b1fa",
   "metadata": {},
   "outputs": [],
   "source": [
    "Answer_2 = \"Object oriented and structured programming\""
   ]
  },
  {
   "cell_type": "code",
   "execution_count": null,
   "id": "ddf3b55d-12ed-42a0-ade7-744bacd97d28",
   "metadata": {},
   "outputs": [],
   "source": [
    "Answer_3 = \"Yes\""
   ]
  },
  {
   "cell_type": "code",
   "execution_count": null,
   "id": "1d863d39-d1c0-4a7d-9047-7d4f86ccdaf7",
   "metadata": {},
   "outputs": [],
   "source": [
    "Answer_4= \".py\""
   ]
  },
  {
   "cell_type": "code",
   "execution_count": null,
   "id": "bed44dff-3f55-42dd-bc9e-9ec7d8b121bb",
   "metadata": {},
   "outputs": [],
   "source": [
    "Answer_5= \"Python is intepreted Language\""
   ]
  },
  {
   "cell_type": "code",
   "execution_count": 2,
   "id": "08a55338-560f-4bb7-9d43-bc50443515f7",
   "metadata": {},
   "outputs": [
    {
     "name": "stdout",
     "output_type": "stream",
     "text": [
      "2\n",
      "3\n",
      "4\n",
      "5\n",
      "6\n",
      "7\n"
     ]
    }
   ],
   "source": [
    "#Answer6_= Adding 1 in all the element of a list by traversing#\n",
    "\n",
    "\n",
    "\n",
    "ls = [1,2,3,4,5,6]\n",
    "for i in ls :\n",
    "    print(i+1)        \n",
    "                \n",
    "             \n"
   ]
  },
  {
   "cell_type": "code",
   "execution_count": null,
   "id": "34fabd11-685d-4acd-934d-3c094e9ca6b7",
   "metadata": {},
   "outputs": [],
   "source": [
    "Answer_7 = \"Hash Symbol\""
   ]
  },
  {
   "cell_type": "code",
   "execution_count": null,
   "id": "a1d71d6e-973c-4424-b51d-5361c9d11588",
   "metadata": {},
   "outputs": [],
   "source": [
    "Answer_8= \"sys.version\""
   ]
  },
  {
   "cell_type": "code",
   "execution_count": null,
   "id": "444689e5-8df4-464c-b987-ff880a07b173",
   "metadata": {},
   "outputs": [],
   "source": [
    "Answer_9=\"lambda\""
   ]
  },
  {
   "cell_type": "code",
   "execution_count": null,
   "id": "0f26d78e-027a-4957-b724-29cef72c6e6b",
   "metadata": {},
   "outputs": [],
   "source": [
    "Answer_10= \"Preferred installer program\""
   ]
  },
  {
   "cell_type": "code",
   "execution_count": null,
   "id": "a81d3791-f2df-4622-a558-9140e642e3a3",
   "metadata": {},
   "outputs": [],
   "source": [
    "Answer_11= \" int(), type(), bool(), input()\""
   ]
  },
  {
   "cell_type": "code",
   "execution_count": null,
   "id": "adc369b6-e3c9-4185-9d85-f637039f24bb",
   "metadata": {},
   "outputs": [],
   "source": [
    "Answer_12= \"79 characters\""
   ]
  },
  {
   "cell_type": "code",
   "execution_count": null,
   "id": "89be1fd0-da42-48d0-846f-1d77c3218e14",
   "metadata": {},
   "outputs": [],
   "source": [
    "Answer_13=\"\"\"Open source and large active community base \n",
    "Versatile, Easy to read, learn and write\n",
    "User-friendly data structures \n",
    "High-level language \n",
    "Dynamically typed language(No need to mention data type based on the value assigned, it takes data type) \n",
    "Object-Oriented and Procedural  Programming language\n",
    "Portable and Interactive\"\"\""
   ]
  },
  {
   "cell_type": "code",
   "execution_count": null,
   "id": "be2aff00-4d60-400c-94e4-e3db988b1f65",
   "metadata": {},
   "outputs": [],
   "source": [
    "Answer_14=\"\"\"Memory management in Python involves a private heap containing all Python objects and data structures.\n",
    "The management of this private heap is ensured internally by the Python memory manager\"\"\""
   ]
  },
  {
   "cell_type": "code",
   "execution_count": null,
   "id": "b3937fe3-3273-40f0-8f87-5be9f0c3b828",
   "metadata": {},
   "outputs": [],
   "source": [
    "Answer_15=\"\"\"1. Right-clicking This PC and going to Properties.\n",
    "\n",
    "             2. Clicking on the Advanced system settings in the menu on the left.\n",
    "\n",
    "             3. Clicking on the Environment Variables button o​n the bottom right.\n",
    "\n",
    "             4.In the System variables section, selecting the Path variable and clicking on Edit.\n",
    "The next screen will show all the directories that are currently a part of the PATH variable.\n",
    "\n",
    "Clicking on New and entering Python’s install directory.\"\"\n"
   ]
  },
  {
   "cell_type": "code",
   "execution_count": null,
   "id": "526d6a2f",
   "metadata": {},
   "outputs": [],
   "source": [
    "Answer_16=\"yes\""
   ]
  },
  {
   "attachments": {},
   "cell_type": "markdown",
   "id": "5f4683ad",
   "metadata": {},
   "source": []
  }
 ],
 "metadata": {
  "kernelspec": {
   "display_name": "Python 3 (ipykernel)",
   "language": "python",
   "name": "python3"
  },
  "language_info": {
   "codemirror_mode": {
    "name": "ipython",
    "version": 3
   },
   "file_extension": ".py",
   "mimetype": "text/x-python",
   "name": "python",
   "nbconvert_exporter": "python",
   "pygments_lexer": "ipython3",
   "version": "3.10.6"
  }
 },
 "nbformat": 4,
 "nbformat_minor": 5
}
